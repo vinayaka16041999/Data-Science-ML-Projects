{
  "nbformat": 4,
  "nbformat_minor": 0,
  "metadata": {
    "colab": {
      "name": "Gender Determination by Morphometry of Eyes.ipynb",
      "provenance": [],
      "collapsed_sections": [],
      "include_colab_link": true
    },
    "kernelspec": {
      "display_name": "Python 3",
      "name": "python3"
    },
    "accelerator": "GPU"
  },
  "cells": [
    {
      "cell_type": "markdown",
      "metadata": {
        "id": "view-in-github",
        "colab_type": "text"
      },
      "source": [
        "<a href=\"https://colab.research.google.com/github/vinayaka16041999/Data-Science-ML-Projects/blob/master/Gender_Determination_by_Morphometry_of_Eyes.ipynb\" target=\"_parent\"><img src=\"https://colab.research.google.com/assets/colab-badge.svg\" alt=\"Open In Colab\"/></a>"
      ]
    },
    {
      "cell_type": "markdown",
      "metadata": {
        "id": "SfMK5FEhUGde"
      },
      "source": [
        "## Download the images\n",
        "\n",
        "\n",
        "We can use **GoogleDriveDownloader** form **google_drive_downloader** library in Python to download the shared files from the shared Google drive link: https://drive.google.com/file/d/1f7uslI-ZHidriQFZR966_aILjlkgDN76/view?usp=sharing\n",
        "\n",
        "The file id in the above link is: **1f7uslI-ZHidriQFZR966_aILjlkgDN76**"
      ]
    },
    {
      "cell_type": "code",
      "metadata": {
        "id": "5_1BysB4Re7f"
      },
      "source": [
        "from google_drive_downloader import GoogleDriveDownloader as gdd\n",
        "\n",
        "gdd.download_file_from_google_drive(file_id='1f7uslI-ZHidriQFZR966_aILjlkgDN76',\n",
        "                                    dest_path='content/eye_gender_data.zip',\n",
        "                                    unzip=True)"
      ],
      "execution_count": 17,
      "outputs": []
    },
    {
      "cell_type": "markdown",
      "metadata": {
        "id": "SM_FDQgXbh_-"
      },
      "source": [
        "We have all the files from the shared Google drive link downloaded in the colab environment."
      ]
    },
    {
      "cell_type": "markdown",
      "metadata": {
        "id": "wsIqjb7Ebs3B"
      },
      "source": [
        "## Loading Libraries\n",
        "All Python capabilities are not loaded to our working environment by default (even they are already installed in your system). So, we import each and every library that we want to use.\n",
        "\n",
        "We chose alias names for our libraries for the sake of our convenience (numpy --> np and pandas --> pd, tensorlow --> tf).\n",
        "\n",
        "Note: You can import all the libraries that you think will be required or can import it as you go along."
      ]
    },
    {
      "cell_type": "code",
      "metadata": {
        "id": "BIe16kmoUmhr"
      },
      "source": [
        "import pandas as pd                                     # Data analysis and manipultion tool\n",
        "import numpy as np                                      # Fundamental package for linear algebra and multidimensional arrays\n",
        "import tensorflow as tf                                 # Deep Learning Tool\n",
        "import os                                               # OS module in Python provides a way of using operating system dependent functionality\n",
        "import cv2                                              # Library for image processing\n",
        "from sklearn.model_selection import train_test_split    # For splitting the data into train and validation set\n",
        "from sklearn.metrics import f1_score"
      ],
      "execution_count": 18,
      "outputs": []
    },
    {
      "cell_type": "markdown",
      "metadata": {
        "id": "IAXqCpedduVx"
      },
      "source": [
        "## Loading and preparing training data\n"
      ]
    },
    {
      "cell_type": "code",
      "metadata": {
        "id": "vMXmX8g3dflK"
      },
      "source": [
        "labels = pd.read_csv(\"/content/content/eye_gender_data/Training_set.csv\")   # loading the labels\n",
        "file_paths = [[fname, '/content/content/eye_gender_data/train/' + fname] for fname in labels['filename']]\n",
        "images = pd.DataFrame(file_paths, columns=['filename', 'filepaths'])\n",
        "train_data = pd.merge(images, labels, how = 'inner', on = 'filename')\n",
        "\n",
        "data = []     # initialize an empty numpy array\n",
        "image_size = 100      # image size taken is 100 here. one can take other size too\n",
        "for i in range(len(train_data)):\n",
        "  \n",
        "  img_array = cv2.imread(train_data['filepaths'][i], cv2.IMREAD_GRAYSCALE)   # converting the image to gray scale\n",
        "\n",
        "  new_img_array = cv2.resize(img_array, (image_size, image_size))      # resizing the image array\n",
        "  data.append([new_img_array, train_data['label'][i]])"
      ],
      "execution_count": 19,
      "outputs": []
    },
    {
      "cell_type": "markdown",
      "metadata": {
        "id": "BvIxaRD6sn3m"
      },
      "source": [
        "## Data Pre-processing\n",
        "It is necessary to bring all the images in the same shape and size, also convert them to their pixel values because all machine learning or deep learning models accepts only the numerical data. Also we need to convert all the labels from categorical to numerical values."
      ]
    },
    {
      "cell_type": "code",
      "metadata": {
        "id": "vxPiZCLpsWrd"
      },
      "source": [
        "labels = []\n",
        "images = []\n",
        "for i in range(len(data)):\n",
        "  labels.append(data[i][1])\n",
        "  images.append(data[i][0])\n",
        "labels = np.array(labels)\n",
        "images = np.array(images)\n",
        "images = images.reshape(images.shape[0], 100, 100, 1)"
      ],
      "execution_count": 20,
      "outputs": []
    },
    {
      "cell_type": "code",
      "metadata": {
        "id": "LOpf3gvXwbT5"
      },
      "source": [
        "images = images/255.0\n",
        "labels = np.array([ 1 if x=='male' else 0 for x in labels])"
      ],
      "execution_count": 21,
      "outputs": []
    },
    {
      "cell_type": "code",
      "metadata": {
        "id": "K8fqU6XlAAvE"
      },
      "source": [
        "from sklearn.model_selection import train_test_split"
      ],
      "execution_count": 22,
      "outputs": []
    },
    {
      "cell_type": "code",
      "metadata": {
        "id": "v1W29B_eAOsr"
      },
      "source": [
        "xtrain, xtest, ytrain, ytest = train_test_split(images, labels, test_size=0.1, random_state=0, stratify=labels)"
      ],
      "execution_count": 23,
      "outputs": []
    },
    {
      "cell_type": "code",
      "metadata": {
        "colab": {
          "base_uri": "https://localhost:8080/"
        },
        "id": "qEHeidSRBLwc",
        "outputId": "df7857f6-ae01-4895-ac82-ea9a8995b47f"
      },
      "source": [
        "pd.DataFrame(ytrain).value_counts()"
      ],
      "execution_count": 8,
      "outputs": [
        {
          "output_type": "execute_result",
          "data": {
            "text/plain": [
              "1    4552\n",
              "0    3746\n",
              "dtype: int64"
            ]
          },
          "metadata": {
            "tags": []
          },
          "execution_count": 8
        }
      ]
    },
    {
      "cell_type": "markdown",
      "metadata": {
        "id": "cDCZ53yE7340"
      },
      "source": [
        "## Building Model & Hyperparameter tuning\n",
        "Now we are finally ready, and we can train the model.\n"
      ]
    },
    {
      "cell_type": "code",
      "metadata": {
        "id": "kOKWYA6Ua4Uh"
      },
      "source": [
        "import tensorflow\n",
        "from tensorflow.keras.layers import Conv2D,MaxPooling2D, Flatten,Dense,Dropout\n",
        "from tensorflow.keras.models import Sequential\n",
        "from tensorflow.keras.regularizers import l1"
      ],
      "execution_count": 24,
      "outputs": []
    },
    {
      "cell_type": "code",
      "metadata": {
        "id": "ZQWMyQLva53K"
      },
      "source": [
        "model = Sequential()\n",
        "model.add(Conv2D(100,kernel_size=(3,3),input_shape=(100,100,1),activity_regularizer=l1(0.1)))\n",
        "model.add(MaxPooling2D(2))\n",
        "model.add(Flatten())\n",
        "model.add(Dense(1,activation='sigmoid'))\n",
        "model.compile(optimizer='adam',loss='binary_crossentropy',metrics=['accuracy'])"
      ],
      "execution_count": 25,
      "outputs": []
    },
    {
      "cell_type": "code",
      "metadata": {
        "colab": {
          "base_uri": "https://localhost:8080/"
        },
        "id": "_jkmDd6PbAJH",
        "outputId": "6d562f2e-266e-4172-c000-29d67320561b"
      },
      "source": [
        "model.fit(xtrain,ytrain,epochs=5,validation_data=(xtest,ytest))"
      ],
      "execution_count": 22,
      "outputs": [
        {
          "output_type": "stream",
          "text": [
            "Epoch 1/5\n",
            "260/260 [==============================] - 10s 37ms/step - loss: 374.5712 - accuracy: 0.7507 - val_loss: 131.4315 - val_accuracy: 0.8048\n",
            "Epoch 2/5\n",
            "260/260 [==============================] - 9s 36ms/step - loss: 94.6488 - accuracy: 0.8087 - val_loss: 74.1884 - val_accuracy: 0.8059\n",
            "Epoch 3/5\n",
            "260/260 [==============================] - 9s 36ms/step - loss: 66.2777 - accuracy: 0.7969 - val_loss: 57.6268 - val_accuracy: 0.7505\n",
            "Epoch 4/5\n",
            "260/260 [==============================] - 9s 36ms/step - loss: 57.0027 - accuracy: 0.7956 - val_loss: 52.8219 - val_accuracy: 0.8037\n",
            "Epoch 5/5\n",
            "260/260 [==============================] - 9s 36ms/step - loss: 49.4793 - accuracy: 0.7921 - val_loss: 46.5286 - val_accuracy: 0.8189\n"
          ],
          "name": "stdout"
        },
        {
          "output_type": "execute_result",
          "data": {
            "text/plain": [
              "<tensorflow.python.keras.callbacks.History at 0x7f62b0379710>"
            ]
          },
          "metadata": {
            "tags": []
          },
          "execution_count": 22
        }
      ]
    },
    {
      "cell_type": "code",
      "metadata": {
        "colab": {
          "base_uri": "https://localhost:8080/"
        },
        "id": "3fhJ6lsv33vF",
        "outputId": "008c4e65-4330-4f2f-fffc-f81b4dbbc1e4"
      },
      "source": [
        "!pip install keras-tuner\n",
        "from keras.utils import np_utils\n",
        "from tensorflow.keras.layers import Conv2D, MaxPooling2D, Dense, Flatten, Activation\n",
        "from keras_tuner import RandomSearch"
      ],
      "execution_count": 26,
      "outputs": [
        {
          "output_type": "stream",
          "text": [
            "Requirement already satisfied: keras-tuner in /usr/local/lib/python3.7/dist-packages (1.0.3)\n",
            "Requirement already satisfied: ipython in /usr/local/lib/python3.7/dist-packages (from keras-tuner) (5.5.0)\n",
            "Requirement already satisfied: requests in /usr/local/lib/python3.7/dist-packages (from keras-tuner) (2.23.0)\n",
            "Requirement already satisfied: packaging in /usr/local/lib/python3.7/dist-packages (from keras-tuner) (21.0)\n",
            "Requirement already satisfied: scipy in /usr/local/lib/python3.7/dist-packages (from keras-tuner) (1.4.1)\n",
            "Requirement already satisfied: numpy in /usr/local/lib/python3.7/dist-packages (from keras-tuner) (1.19.5)\n",
            "Requirement already satisfied: kt-legacy in /usr/local/lib/python3.7/dist-packages (from keras-tuner) (1.0.3)\n",
            "Requirement already satisfied: tensorboard in /usr/local/lib/python3.7/dist-packages (from keras-tuner) (2.5.0)\n",
            "Requirement already satisfied: pygments in /usr/local/lib/python3.7/dist-packages (from ipython->keras-tuner) (2.6.1)\n",
            "Requirement already satisfied: pexpect in /usr/local/lib/python3.7/dist-packages (from ipython->keras-tuner) (4.8.0)\n",
            "Requirement already satisfied: traitlets>=4.2 in /usr/local/lib/python3.7/dist-packages (from ipython->keras-tuner) (5.0.5)\n",
            "Requirement already satisfied: decorator in /usr/local/lib/python3.7/dist-packages (from ipython->keras-tuner) (4.4.2)\n",
            "Requirement already satisfied: pickleshare in /usr/local/lib/python3.7/dist-packages (from ipython->keras-tuner) (0.7.5)\n",
            "Requirement already satisfied: setuptools>=18.5 in /usr/local/lib/python3.7/dist-packages (from ipython->keras-tuner) (57.2.0)\n",
            "Requirement already satisfied: prompt-toolkit<2.0.0,>=1.0.4 in /usr/local/lib/python3.7/dist-packages (from ipython->keras-tuner) (1.0.18)\n",
            "Requirement already satisfied: simplegeneric>0.8 in /usr/local/lib/python3.7/dist-packages (from ipython->keras-tuner) (0.8.1)\n",
            "Requirement already satisfied: six>=1.9.0 in /usr/local/lib/python3.7/dist-packages (from prompt-toolkit<2.0.0,>=1.0.4->ipython->keras-tuner) (1.15.0)\n",
            "Requirement already satisfied: wcwidth in /usr/local/lib/python3.7/dist-packages (from prompt-toolkit<2.0.0,>=1.0.4->ipython->keras-tuner) (0.2.5)\n",
            "Requirement already satisfied: ipython-genutils in /usr/local/lib/python3.7/dist-packages (from traitlets>=4.2->ipython->keras-tuner) (0.2.0)\n",
            "Requirement already satisfied: pyparsing>=2.0.2 in /usr/local/lib/python3.7/dist-packages (from packaging->keras-tuner) (2.4.7)\n",
            "Requirement already satisfied: ptyprocess>=0.5 in /usr/local/lib/python3.7/dist-packages (from pexpect->ipython->keras-tuner) (0.7.0)\n",
            "Requirement already satisfied: idna<3,>=2.5 in /usr/local/lib/python3.7/dist-packages (from requests->keras-tuner) (2.10)\n",
            "Requirement already satisfied: urllib3!=1.25.0,!=1.25.1,<1.26,>=1.21.1 in /usr/local/lib/python3.7/dist-packages (from requests->keras-tuner) (1.24.3)\n",
            "Requirement already satisfied: certifi>=2017.4.17 in /usr/local/lib/python3.7/dist-packages (from requests->keras-tuner) (2021.5.30)\n",
            "Requirement already satisfied: chardet<4,>=3.0.2 in /usr/local/lib/python3.7/dist-packages (from requests->keras-tuner) (3.0.4)\n",
            "Requirement already satisfied: grpcio>=1.24.3 in /usr/local/lib/python3.7/dist-packages (from tensorboard->keras-tuner) (1.34.1)\n",
            "Requirement already satisfied: tensorboard-plugin-wit>=1.6.0 in /usr/local/lib/python3.7/dist-packages (from tensorboard->keras-tuner) (1.8.0)\n",
            "Requirement already satisfied: werkzeug>=0.11.15 in /usr/local/lib/python3.7/dist-packages (from tensorboard->keras-tuner) (1.0.1)\n",
            "Requirement already satisfied: protobuf>=3.6.0 in /usr/local/lib/python3.7/dist-packages (from tensorboard->keras-tuner) (3.17.3)\n",
            "Requirement already satisfied: google-auth-oauthlib<0.5,>=0.4.1 in /usr/local/lib/python3.7/dist-packages (from tensorboard->keras-tuner) (0.4.4)\n",
            "Requirement already satisfied: wheel>=0.26 in /usr/local/lib/python3.7/dist-packages (from tensorboard->keras-tuner) (0.36.2)\n",
            "Requirement already satisfied: tensorboard-data-server<0.7.0,>=0.6.0 in /usr/local/lib/python3.7/dist-packages (from tensorboard->keras-tuner) (0.6.1)\n",
            "Requirement already satisfied: markdown>=2.6.8 in /usr/local/lib/python3.7/dist-packages (from tensorboard->keras-tuner) (3.3.4)\n",
            "Requirement already satisfied: google-auth<2,>=1.6.3 in /usr/local/lib/python3.7/dist-packages (from tensorboard->keras-tuner) (1.32.1)\n",
            "Requirement already satisfied: absl-py>=0.4 in /usr/local/lib/python3.7/dist-packages (from tensorboard->keras-tuner) (0.12.0)\n",
            "Requirement already satisfied: rsa<5,>=3.1.4 in /usr/local/lib/python3.7/dist-packages (from google-auth<2,>=1.6.3->tensorboard->keras-tuner) (4.7.2)\n",
            "Requirement already satisfied: cachetools<5.0,>=2.0.0 in /usr/local/lib/python3.7/dist-packages (from google-auth<2,>=1.6.3->tensorboard->keras-tuner) (4.2.2)\n",
            "Requirement already satisfied: pyasn1-modules>=0.2.1 in /usr/local/lib/python3.7/dist-packages (from google-auth<2,>=1.6.3->tensorboard->keras-tuner) (0.2.8)\n",
            "Requirement already satisfied: requests-oauthlib>=0.7.0 in /usr/local/lib/python3.7/dist-packages (from google-auth-oauthlib<0.5,>=0.4.1->tensorboard->keras-tuner) (1.3.0)\n",
            "Requirement already satisfied: importlib-metadata in /usr/local/lib/python3.7/dist-packages (from markdown>=2.6.8->tensorboard->keras-tuner) (4.6.1)\n",
            "Requirement already satisfied: pyasn1<0.5.0,>=0.4.6 in /usr/local/lib/python3.7/dist-packages (from pyasn1-modules>=0.2.1->google-auth<2,>=1.6.3->tensorboard->keras-tuner) (0.4.8)\n",
            "Requirement already satisfied: oauthlib>=3.0.0 in /usr/local/lib/python3.7/dist-packages (from requests-oauthlib>=0.7.0->google-auth-oauthlib<0.5,>=0.4.1->tensorboard->keras-tuner) (3.1.1)\n",
            "Requirement already satisfied: zipp>=0.5 in /usr/local/lib/python3.7/dist-packages (from importlib-metadata->markdown>=2.6.8->tensorboard->keras-tuner) (3.5.0)\n",
            "Requirement already satisfied: typing-extensions>=3.6.4 in /usr/local/lib/python3.7/dist-packages (from importlib-metadata->markdown>=2.6.8->tensorboard->keras-tuner) (3.7.4.3)\n"
          ],
          "name": "stdout"
        }
      ]
    },
    {
      "cell_type": "code",
      "metadata": {
        "id": "n2u9870u4_zy"
      },
      "source": [
        "def build_model(hp):  # random search passes this hyperparameter() object \n",
        "    tun_mod = Sequential()\n",
        "    tun_mod.add(Conv2D(hp.Int('input_units',min_value=50,max_value=500,step=10),(3,3),input_shape=(100,100,1)))\n",
        "    tun_mod.add(MaxPooling2D(hp.Int('pool_size',min_value=1,max_value=5,step=1)))\n",
        "    for i in range(hp.Int('num_conv',1,10)):\n",
        "      tun_mod.add(Conv2D(hp.Int(f'conv_{i}_units',min_value=50,max_value=500,step=10), (3, 3)))\n",
        "    tun_mod.add(MaxPooling2D(2))\n",
        "    tun_mod.add(Flatten())\n",
        "    for i in range(hp.Int('n_connections', 1, 10)):\n",
        "        tun_mod.add(Dense(hp.Choice(f'n_nodes',values=[128, 256, 512, 1024]),activation='relu'))\n",
        "    tun_mod.add(Dense(1,activation='sigmoid'))\n",
        "    tun_mod.compile(optimizer=hp.Choice('optimizer',values=['adam','rmsprop','sgd']),loss='binary_crossentropy',metrics=['accuracy'])\n",
        "    return tun_mod"
      ],
      "execution_count": 27,
      "outputs": []
    },
    {
      "cell_type": "code",
      "metadata": {
        "colab": {
          "base_uri": "https://localhost:8080/"
        },
        "id": "gUFUbWyo5Q5h",
        "outputId": "a82aa7a6-8309-4501-fd68-a41b96f6af6e"
      },
      "source": [
        "tuner = RandomSearch(\n",
        "    build_model,\n",
        "    objective='val_accuracy',\n",
        "    max_trials=5, \n",
        "    directory = 'tuner data'\n",
        ")"
      ],
      "execution_count": 28,
      "outputs": [
        {
          "output_type": "stream",
          "text": [
            "INFO:tensorflow:Reloading Oracle from existing project tuner data/untitled_project/oracle.json\n",
            "INFO:tensorflow:Reloading Tuner from tuner data/untitled_project/tuner0.json\n"
          ],
          "name": "stdout"
        }
      ]
    },
    {
      "cell_type": "code",
      "metadata": {
        "colab": {
          "base_uri": "https://localhost:8080/"
        },
        "id": "BmNC3Mrb5mGF",
        "outputId": "92f3327e-0cab-474f-dfb0-5eac587b3c1e"
      },
      "source": [
        "NUM_EPOCH = 10\n",
        "tuner.search(x=xtrain,\n",
        "             y=ytrain,\n",
        "             epochs=NUM_EPOCH,\n",
        "             validation_data=(xtest,ytest))"
      ],
      "execution_count": null,
      "outputs": [
        {
          "output_type": "stream",
          "text": [
            "\n",
            "Search: Running Trial #1\n",
            "\n",
            "Hyperparameter    |Value             |Best Value So Far \n",
            "input_units       |80                |380               \n",
            "pool_size         |1                 |4                 \n",
            "num_conv          |8                 |5                 \n",
            "conv_0_units      |320               |340               \n",
            "n_connections     |8                 |8                 \n",
            "n_nodes           |256               |256               \n",
            "optimizer         |rmsprop           |adam              \n",
            "conv_1_units      |60                |50                \n",
            "conv_2_units      |460               |50                \n",
            "conv_3_units      |460               |50                \n",
            "conv_4_units      |260               |50                \n",
            "\n",
            "Epoch 1/10\n",
            "  6/260 [..............................] - ETA: 6:26 - loss: 27769.1777 - accuracy: 0.4948WARNING:tensorflow:Callback method `on_train_batch_end` is slow compared to the batch time (batch time: 0.4638s vs `on_train_batch_end` time: 1.0731s). Check your callbacks.\n",
            "260/260 [==============================] - 419s 2s/step - loss: 850.2147 - accuracy: 0.5082 - val_loss: 1.0154 - val_accuracy: 0.5098\n",
            "Epoch 2/10\n",
            "260/260 [==============================] - 418s 2s/step - loss: 23.8432 - accuracy: 0.5094 - val_loss: 5.3441 - val_accuracy: 0.5401\n",
            "Epoch 3/10\n",
            "260/260 [==============================] - 418s 2s/step - loss: 32.9622 - accuracy: 0.5148 - val_loss: 1.0306 - val_accuracy: 0.4512\n",
            "Epoch 4/10\n",
            "260/260 [==============================] - 419s 2s/step - loss: 36.4007 - accuracy: 0.5114 - val_loss: 9.5667 - val_accuracy: 0.4512\n",
            "Epoch 5/10\n",
            " 73/260 [=======>......................] - ETA: 4:52 - loss: 2.9420 - accuracy: 0.5013"
          ],
          "name": "stdout"
        }
      ]
    },
    {
      "cell_type": "code",
      "metadata": {
        "id": "8tDKTYqiAhQC"
      },
      "source": [
        "print(tuner.get_best_models()[0].summary())\n",
        "print(tuner.get_best_hyperparameters()[0].values)\n",
        "\n",
        "model = tuner.get_best_models(num_models=1)[0]\n",
        "print (model.summary())\n",
        "loss, accuracy = model.evaluate(xtest, ytest)\n",
        "print('loss:', loss)\n",
        "print('accuracy:', accuracy)\n",
        "model.save('prueba1.h5')"
      ],
      "execution_count": null,
      "outputs": []
    },
    {
      "cell_type": "markdown",
      "metadata": {
        "id": "kLrpm-If-lRT"
      },
      "source": [
        "## Predict The Output For Testing Dataset 😅\n",
        "We have trained our model, evaluated it and now finally we will predict the output/target for the testing data (i.e. Test.csv)."
      ]
    },
    {
      "cell_type": "markdown",
      "metadata": {
        "id": "nG70J6Un-s2G"
      },
      "source": [
        "#### Load Test Set\n",
        "Load the test data on which final submission is to be made."
      ]
    },
    {
      "cell_type": "code",
      "metadata": {
        "id": "iji8OaFF-fSp"
      },
      "source": [
        "labels = pd.read_csv(\"/content/content/eye_gender_data/Testing_set.csv\")   # loading the labels\n",
        "file_paths = [[fname, '/content/content/eye_gender_data/test/' + fname] for fname in labels['filename']]\n",
        "images = pd.DataFrame(file_paths, columns=['filename', 'filepaths'])\n",
        "test_data = pd.merge(images, labels, how = 'inner', on = 'filename')\n",
        "\n",
        "test = []     # initialize an empty numpy array\n",
        "image_size = 100      # image size taken is 100 here. one can take other size too\n",
        "for i in range(len(test_data)):\n",
        "  \n",
        "  img_array = cv2.imread(test_data['filepaths'][i], cv2.IMREAD_GRAYSCALE)   # converting the image to gray scale\n",
        "\n",
        "  new_img_array = cv2.resize(img_array, (image_size, image_size))      # resizing the image array\n",
        "  test.append(new_img_array)"
      ],
      "execution_count": 21,
      "outputs": []
    },
    {
      "cell_type": "code",
      "metadata": {
        "colab": {
          "base_uri": "https://localhost:8080/"
        },
        "id": "OrHaBGL615qv",
        "outputId": "823e79a9-c085-4c18-8945-7f2dfb629db1"
      },
      "source": [
        "len(data)"
      ],
      "execution_count": 24,
      "outputs": [
        {
          "output_type": "execute_result",
          "data": {
            "text/plain": [
              "9220"
            ]
          },
          "metadata": {
            "tags": []
          },
          "execution_count": 24
        }
      ]
    },
    {
      "cell_type": "markdown",
      "metadata": {
        "id": "ZqSujaW0CRi9"
      },
      "source": [
        "## Data Pre-processing on test_data\n"
      ]
    },
    {
      "cell_type": "code",
      "metadata": {
        "id": "Wy7-NZ7TCiSQ"
      },
      "source": [
        "test = np.array(test)\n",
        "test = test.reshape(test.shape[0], 100, 100, 1)\n",
        "test = test/255.0"
      ],
      "execution_count": 25,
      "outputs": []
    },
    {
      "cell_type": "code",
      "metadata": {
        "id": "7KNDswlffvYq"
      },
      "source": [
        ""
      ],
      "execution_count": null,
      "outputs": []
    },
    {
      "cell_type": "code",
      "metadata": {
        "id": "lIeL1SHdCAcf"
      },
      "source": [
        ""
      ],
      "execution_count": null,
      "outputs": []
    },
    {
      "cell_type": "markdown",
      "metadata": {
        "id": "AxtDS6-0J0s2"
      },
      "source": [
        "### Make Prediction on Test Dataset\n",
        "Time to make a submission!!!"
      ]
    },
    {
      "cell_type": "code",
      "metadata": {
        "id": "yXLCDKVrJuzY"
      },
      "source": [
        "pred = model.predict(test)"
      ],
      "execution_count": 26,
      "outputs": []
    },
    {
      "cell_type": "code",
      "metadata": {
        "colab": {
          "base_uri": "https://localhost:8080/"
        },
        "id": "mFr0ier02K3A",
        "outputId": "20bcedf1-cd32-4ae4-df88-7a7b0d2a52af"
      },
      "source": [
        "pred"
      ],
      "execution_count": 27,
      "outputs": [
        {
          "output_type": "execute_result",
          "data": {
            "text/plain": [
              "array([[0.88394934],\n",
              "       [0.62428486],\n",
              "       [0.63133025],\n",
              "       ...,\n",
              "       [0.6746099 ],\n",
              "       [0.71799403],\n",
              "       [0.5598869 ]], dtype=float32)"
            ]
          },
          "metadata": {
            "tags": []
          },
          "execution_count": 27
        }
      ]
    },
    {
      "cell_type": "code",
      "metadata": {
        "id": "MYeK05BHLAen"
      },
      "source": [
        "pred = [1 if x>=0.5 else 0 for x in pred]"
      ],
      "execution_count": 28,
      "outputs": []
    },
    {
      "cell_type": "code",
      "metadata": {
        "id": "IVlt1W_G5MyQ"
      },
      "source": [
        "pred = ['male' if x==1 else 'female' for x in pred]"
      ],
      "execution_count": 30,
      "outputs": []
    },
    {
      "cell_type": "code",
      "metadata": {
        "colab": {
          "base_uri": "https://localhost:8080/"
        },
        "id": "7L0z1u-o2uIK",
        "outputId": "508ed997-6510-4b60-d35b-b9f00f246852"
      },
      "source": [
        "pred"
      ],
      "execution_count": 31,
      "outputs": [
        {
          "output_type": "execute_result",
          "data": {
            "text/plain": [
              "['male',\n",
              " 'male',\n",
              " 'male',\n",
              " 'male',\n",
              " 'male',\n",
              " 'male',\n",
              " 'female',\n",
              " 'male',\n",
              " 'male',\n",
              " 'female',\n",
              " 'male',\n",
              " 'male',\n",
              " 'male',\n",
              " 'male',\n",
              " 'male',\n",
              " 'female',\n",
              " 'male',\n",
              " 'male',\n",
              " 'male',\n",
              " 'male',\n",
              " 'male',\n",
              " 'male',\n",
              " 'male',\n",
              " 'male',\n",
              " 'male',\n",
              " 'male',\n",
              " 'male',\n",
              " 'male',\n",
              " 'female',\n",
              " 'male',\n",
              " 'male',\n",
              " 'male',\n",
              " 'male',\n",
              " 'female',\n",
              " 'male',\n",
              " 'male',\n",
              " 'male',\n",
              " 'female',\n",
              " 'male',\n",
              " 'female',\n",
              " 'male',\n",
              " 'male',\n",
              " 'female',\n",
              " 'male',\n",
              " 'male',\n",
              " 'male',\n",
              " 'male',\n",
              " 'male',\n",
              " 'female',\n",
              " 'male',\n",
              " 'male',\n",
              " 'male',\n",
              " 'male',\n",
              " 'male',\n",
              " 'male',\n",
              " 'male',\n",
              " 'male',\n",
              " 'female',\n",
              " 'male',\n",
              " 'male',\n",
              " 'male',\n",
              " 'male',\n",
              " 'male',\n",
              " 'male',\n",
              " 'female',\n",
              " 'female',\n",
              " 'male',\n",
              " 'male',\n",
              " 'male',\n",
              " 'male',\n",
              " 'male',\n",
              " 'male',\n",
              " 'male',\n",
              " 'female',\n",
              " 'male',\n",
              " 'male',\n",
              " 'male',\n",
              " 'male',\n",
              " 'male',\n",
              " 'male',\n",
              " 'male',\n",
              " 'female',\n",
              " 'male',\n",
              " 'male',\n",
              " 'male',\n",
              " 'male',\n",
              " 'female',\n",
              " 'male',\n",
              " 'male',\n",
              " 'male',\n",
              " 'male',\n",
              " 'male',\n",
              " 'male',\n",
              " 'male',\n",
              " 'male',\n",
              " 'male',\n",
              " 'male',\n",
              " 'male',\n",
              " 'male',\n",
              " 'male',\n",
              " 'male',\n",
              " 'female',\n",
              " 'male',\n",
              " 'male',\n",
              " 'male',\n",
              " 'female',\n",
              " 'female',\n",
              " 'male',\n",
              " 'male',\n",
              " 'male',\n",
              " 'female',\n",
              " 'male',\n",
              " 'female',\n",
              " 'male',\n",
              " 'female',\n",
              " 'male',\n",
              " 'male',\n",
              " 'male',\n",
              " 'male',\n",
              " 'male',\n",
              " 'male',\n",
              " 'male',\n",
              " 'female',\n",
              " 'male',\n",
              " 'male',\n",
              " 'male',\n",
              " 'male',\n",
              " 'female',\n",
              " 'male',\n",
              " 'male',\n",
              " 'male',\n",
              " 'male',\n",
              " 'male',\n",
              " 'male',\n",
              " 'male',\n",
              " 'male',\n",
              " 'female',\n",
              " 'male',\n",
              " 'male',\n",
              " 'male',\n",
              " 'male',\n",
              " 'male',\n",
              " 'male',\n",
              " 'male',\n",
              " 'male',\n",
              " 'male',\n",
              " 'male',\n",
              " 'male',\n",
              " 'male',\n",
              " 'male',\n",
              " 'female',\n",
              " 'male',\n",
              " 'male',\n",
              " 'male',\n",
              " 'male',\n",
              " 'male',\n",
              " 'male',\n",
              " 'male',\n",
              " 'male',\n",
              " 'male',\n",
              " 'male',\n",
              " 'male',\n",
              " 'male',\n",
              " 'female',\n",
              " 'male',\n",
              " 'male',\n",
              " 'female',\n",
              " 'male',\n",
              " 'male',\n",
              " 'female',\n",
              " 'male',\n",
              " 'male',\n",
              " 'male',\n",
              " 'male',\n",
              " 'female',\n",
              " 'male',\n",
              " 'male',\n",
              " 'male',\n",
              " 'male',\n",
              " 'male',\n",
              " 'female',\n",
              " 'male',\n",
              " 'male',\n",
              " 'female',\n",
              " 'male',\n",
              " 'male',\n",
              " 'male',\n",
              " 'male',\n",
              " 'female',\n",
              " 'male',\n",
              " 'female',\n",
              " 'male',\n",
              " 'female',\n",
              " 'female',\n",
              " 'male',\n",
              " 'male',\n",
              " 'male',\n",
              " 'male',\n",
              " 'female',\n",
              " 'male',\n",
              " 'male',\n",
              " 'male',\n",
              " 'female',\n",
              " 'female',\n",
              " 'female',\n",
              " 'female',\n",
              " 'male',\n",
              " 'male',\n",
              " 'female',\n",
              " 'male',\n",
              " 'male',\n",
              " 'male',\n",
              " 'male',\n",
              " 'male',\n",
              " 'male',\n",
              " 'male',\n",
              " 'male',\n",
              " 'female',\n",
              " 'male',\n",
              " 'male',\n",
              " 'male',\n",
              " 'male',\n",
              " 'female',\n",
              " 'male',\n",
              " 'male',\n",
              " 'female',\n",
              " 'male',\n",
              " 'male',\n",
              " 'female',\n",
              " 'male',\n",
              " 'female',\n",
              " 'male',\n",
              " 'male',\n",
              " 'female',\n",
              " 'female',\n",
              " 'female',\n",
              " 'male',\n",
              " 'male',\n",
              " 'male',\n",
              " 'male',\n",
              " 'male',\n",
              " 'male',\n",
              " 'male',\n",
              " 'female',\n",
              " 'male',\n",
              " 'male',\n",
              " 'male',\n",
              " 'female',\n",
              " 'female',\n",
              " 'male',\n",
              " 'male',\n",
              " 'male',\n",
              " 'male',\n",
              " 'female',\n",
              " 'male',\n",
              " 'female',\n",
              " 'male',\n",
              " 'male',\n",
              " 'male',\n",
              " 'male',\n",
              " 'male',\n",
              " 'male',\n",
              " 'male',\n",
              " 'male',\n",
              " 'male',\n",
              " 'male',\n",
              " 'male',\n",
              " 'female',\n",
              " 'male',\n",
              " 'female',\n",
              " 'male',\n",
              " 'male',\n",
              " 'male',\n",
              " 'male',\n",
              " 'male',\n",
              " 'male',\n",
              " 'male',\n",
              " 'male',\n",
              " 'male',\n",
              " 'female',\n",
              " 'female',\n",
              " 'male',\n",
              " 'male',\n",
              " 'male',\n",
              " 'male',\n",
              " 'male',\n",
              " 'male',\n",
              " 'female',\n",
              " 'male',\n",
              " 'male',\n",
              " 'male',\n",
              " 'male',\n",
              " 'male',\n",
              " 'male',\n",
              " 'male',\n",
              " 'male',\n",
              " 'female',\n",
              " 'female',\n",
              " 'female',\n",
              " 'male',\n",
              " 'male',\n",
              " 'female',\n",
              " 'male',\n",
              " 'male',\n",
              " 'male',\n",
              " 'male',\n",
              " 'male',\n",
              " 'male',\n",
              " 'male',\n",
              " 'female',\n",
              " 'female',\n",
              " 'male',\n",
              " 'male',\n",
              " 'male',\n",
              " 'male',\n",
              " 'male',\n",
              " 'male',\n",
              " 'male',\n",
              " 'male',\n",
              " 'male',\n",
              " 'male',\n",
              " 'male',\n",
              " 'male',\n",
              " 'male',\n",
              " 'male',\n",
              " 'female',\n",
              " 'male',\n",
              " 'male',\n",
              " 'male',\n",
              " 'male',\n",
              " 'male',\n",
              " 'male',\n",
              " 'male',\n",
              " 'male',\n",
              " 'female',\n",
              " 'female',\n",
              " 'female',\n",
              " 'female',\n",
              " 'female',\n",
              " 'male',\n",
              " 'male',\n",
              " 'female',\n",
              " 'male',\n",
              " 'male',\n",
              " 'male',\n",
              " 'female',\n",
              " 'male',\n",
              " 'male',\n",
              " 'female',\n",
              " 'male',\n",
              " 'male',\n",
              " 'male',\n",
              " 'male',\n",
              " 'male',\n",
              " 'male',\n",
              " 'female',\n",
              " 'male',\n",
              " 'male',\n",
              " 'male',\n",
              " 'female',\n",
              " 'male',\n",
              " 'male',\n",
              " 'male',\n",
              " 'male',\n",
              " 'female',\n",
              " 'female',\n",
              " 'male',\n",
              " 'male',\n",
              " 'male',\n",
              " 'male',\n",
              " 'female',\n",
              " 'female',\n",
              " 'male',\n",
              " 'male',\n",
              " 'male',\n",
              " 'male',\n",
              " 'male',\n",
              " 'male',\n",
              " 'female',\n",
              " 'female',\n",
              " 'male',\n",
              " 'male',\n",
              " 'male',\n",
              " 'male',\n",
              " 'male',\n",
              " 'female',\n",
              " 'female',\n",
              " 'male',\n",
              " 'male',\n",
              " 'male',\n",
              " 'male',\n",
              " 'male',\n",
              " 'male',\n",
              " 'male',\n",
              " 'male',\n",
              " 'female',\n",
              " 'male',\n",
              " 'female',\n",
              " 'male',\n",
              " 'male',\n",
              " 'male',\n",
              " 'female',\n",
              " 'female',\n",
              " 'female',\n",
              " 'male',\n",
              " 'male',\n",
              " 'male',\n",
              " 'male',\n",
              " 'male',\n",
              " 'male',\n",
              " 'male',\n",
              " 'female',\n",
              " 'male',\n",
              " 'female',\n",
              " 'male',\n",
              " 'female',\n",
              " 'male',\n",
              " 'male',\n",
              " 'male',\n",
              " 'male',\n",
              " 'female',\n",
              " 'female',\n",
              " 'male',\n",
              " 'male',\n",
              " 'male',\n",
              " 'male',\n",
              " 'male',\n",
              " 'male',\n",
              " 'male',\n",
              " 'male',\n",
              " 'male',\n",
              " 'female',\n",
              " 'male',\n",
              " 'female',\n",
              " 'female',\n",
              " 'female',\n",
              " 'male',\n",
              " 'male',\n",
              " 'male',\n",
              " 'female',\n",
              " 'male',\n",
              " 'female',\n",
              " 'female',\n",
              " 'female',\n",
              " 'female',\n",
              " 'male',\n",
              " 'male',\n",
              " 'male',\n",
              " 'male',\n",
              " 'female',\n",
              " 'male',\n",
              " 'male',\n",
              " 'male',\n",
              " 'male',\n",
              " 'female',\n",
              " 'male',\n",
              " 'male',\n",
              " 'male',\n",
              " 'male',\n",
              " 'male',\n",
              " 'male',\n",
              " 'male',\n",
              " 'male',\n",
              " 'male',\n",
              " 'male',\n",
              " 'male',\n",
              " 'male',\n",
              " 'male',\n",
              " 'female',\n",
              " 'male',\n",
              " 'female',\n",
              " 'male',\n",
              " 'male',\n",
              " 'female',\n",
              " 'female',\n",
              " 'male',\n",
              " 'female',\n",
              " 'female',\n",
              " 'male',\n",
              " 'male',\n",
              " 'male',\n",
              " 'male',\n",
              " 'male',\n",
              " 'male',\n",
              " 'male',\n",
              " 'female',\n",
              " 'male',\n",
              " 'male',\n",
              " 'male',\n",
              " 'male',\n",
              " 'female',\n",
              " 'female',\n",
              " 'male',\n",
              " 'male',\n",
              " 'male',\n",
              " 'male',\n",
              " 'female',\n",
              " 'female',\n",
              " 'male',\n",
              " 'male',\n",
              " 'male',\n",
              " 'male',\n",
              " 'male',\n",
              " 'male',\n",
              " 'female',\n",
              " 'male',\n",
              " 'male',\n",
              " 'male',\n",
              " 'male',\n",
              " 'male',\n",
              " 'female',\n",
              " 'male',\n",
              " 'male',\n",
              " 'male',\n",
              " 'male',\n",
              " 'male',\n",
              " 'male',\n",
              " 'female',\n",
              " 'male',\n",
              " 'female',\n",
              " 'male',\n",
              " 'male',\n",
              " 'male',\n",
              " 'male',\n",
              " 'male',\n",
              " 'male',\n",
              " 'male',\n",
              " 'male',\n",
              " 'male',\n",
              " 'male',\n",
              " 'male',\n",
              " 'female',\n",
              " 'male',\n",
              " 'female',\n",
              " 'female',\n",
              " 'female',\n",
              " 'female',\n",
              " 'male',\n",
              " 'male',\n",
              " 'male',\n",
              " 'male',\n",
              " 'male',\n",
              " 'male',\n",
              " 'female',\n",
              " 'female',\n",
              " 'male',\n",
              " 'female',\n",
              " 'female',\n",
              " 'male',\n",
              " 'female',\n",
              " 'female',\n",
              " 'male',\n",
              " 'male',\n",
              " 'female',\n",
              " 'female',\n",
              " 'male',\n",
              " 'male',\n",
              " 'male',\n",
              " 'male',\n",
              " 'female',\n",
              " 'male',\n",
              " 'male',\n",
              " 'male',\n",
              " 'male',\n",
              " 'male',\n",
              " 'female',\n",
              " 'female',\n",
              " 'male',\n",
              " 'male',\n",
              " 'male',\n",
              " 'male',\n",
              " 'female',\n",
              " 'male',\n",
              " 'male',\n",
              " 'female',\n",
              " 'male',\n",
              " 'female',\n",
              " 'female',\n",
              " 'male',\n",
              " 'male',\n",
              " 'female',\n",
              " 'male',\n",
              " 'male',\n",
              " 'male',\n",
              " 'male',\n",
              " 'male',\n",
              " 'male',\n",
              " 'male',\n",
              " 'female',\n",
              " 'female',\n",
              " 'male',\n",
              " 'male',\n",
              " 'male',\n",
              " 'female',\n",
              " 'male',\n",
              " 'female',\n",
              " 'female',\n",
              " 'male',\n",
              " 'female',\n",
              " 'female',\n",
              " 'female',\n",
              " 'male',\n",
              " 'female',\n",
              " 'male',\n",
              " 'male',\n",
              " 'male',\n",
              " 'male',\n",
              " 'male',\n",
              " 'male',\n",
              " 'male',\n",
              " 'male',\n",
              " 'female',\n",
              " 'male',\n",
              " 'male',\n",
              " 'male',\n",
              " 'male',\n",
              " 'male',\n",
              " 'female',\n",
              " 'male',\n",
              " 'male',\n",
              " 'male',\n",
              " 'male',\n",
              " 'male',\n",
              " 'male',\n",
              " 'male',\n",
              " 'male',\n",
              " 'male',\n",
              " 'female',\n",
              " 'female',\n",
              " 'male',\n",
              " 'female',\n",
              " 'male',\n",
              " 'male',\n",
              " 'male',\n",
              " 'female',\n",
              " 'male',\n",
              " 'male',\n",
              " 'male',\n",
              " 'male',\n",
              " 'male',\n",
              " 'male',\n",
              " 'male',\n",
              " 'female',\n",
              " 'male',\n",
              " 'male',\n",
              " 'female',\n",
              " 'male',\n",
              " 'male',\n",
              " 'female',\n",
              " 'female',\n",
              " 'male',\n",
              " 'male',\n",
              " 'male',\n",
              " 'female',\n",
              " 'male',\n",
              " 'male',\n",
              " 'female',\n",
              " 'male',\n",
              " 'male',\n",
              " 'male',\n",
              " 'male',\n",
              " 'female',\n",
              " 'female',\n",
              " 'female',\n",
              " 'male',\n",
              " 'male',\n",
              " 'male',\n",
              " 'male',\n",
              " 'male',\n",
              " 'male',\n",
              " 'male',\n",
              " 'male',\n",
              " 'male',\n",
              " 'female',\n",
              " 'male',\n",
              " 'male',\n",
              " 'female',\n",
              " 'male',\n",
              " 'male',\n",
              " 'male',\n",
              " 'female',\n",
              " 'male',\n",
              " 'male',\n",
              " 'male',\n",
              " 'male',\n",
              " 'male',\n",
              " 'male',\n",
              " 'male',\n",
              " 'male',\n",
              " 'male',\n",
              " 'male',\n",
              " 'female',\n",
              " 'male',\n",
              " 'male',\n",
              " 'male',\n",
              " 'male',\n",
              " 'male',\n",
              " 'female',\n",
              " 'male',\n",
              " 'female',\n",
              " 'male',\n",
              " 'female',\n",
              " 'male',\n",
              " 'male',\n",
              " 'male',\n",
              " 'female',\n",
              " 'male',\n",
              " 'male',\n",
              " 'female',\n",
              " 'male',\n",
              " 'male',\n",
              " 'male',\n",
              " 'male',\n",
              " 'female',\n",
              " 'male',\n",
              " 'female',\n",
              " 'female',\n",
              " 'male',\n",
              " 'male',\n",
              " 'male',\n",
              " 'male',\n",
              " 'male',\n",
              " 'male',\n",
              " 'male',\n",
              " 'male',\n",
              " 'male',\n",
              " 'male',\n",
              " 'male',\n",
              " 'male',\n",
              " 'female',\n",
              " 'male',\n",
              " 'male',\n",
              " 'male',\n",
              " 'female',\n",
              " 'female',\n",
              " 'male',\n",
              " 'male',\n",
              " 'female',\n",
              " 'male',\n",
              " 'female',\n",
              " 'male',\n",
              " 'female',\n",
              " 'male',\n",
              " 'female',\n",
              " 'male',\n",
              " 'male',\n",
              " 'male',\n",
              " 'male',\n",
              " 'male',\n",
              " 'male',\n",
              " 'male',\n",
              " 'male',\n",
              " 'male',\n",
              " 'male',\n",
              " 'male',\n",
              " 'male',\n",
              " 'male',\n",
              " 'female',\n",
              " 'male',\n",
              " 'female',\n",
              " 'male',\n",
              " 'female',\n",
              " 'male',\n",
              " 'male',\n",
              " 'female',\n",
              " 'female',\n",
              " 'female',\n",
              " 'male',\n",
              " 'male',\n",
              " 'male',\n",
              " 'male',\n",
              " 'male',\n",
              " 'male',\n",
              " 'male',\n",
              " 'male',\n",
              " 'male',\n",
              " 'male',\n",
              " 'male',\n",
              " 'male',\n",
              " 'male',\n",
              " 'male',\n",
              " 'male',\n",
              " 'male',\n",
              " 'male',\n",
              " 'female',\n",
              " 'female',\n",
              " 'male',\n",
              " 'female',\n",
              " 'female',\n",
              " 'male',\n",
              " 'male',\n",
              " 'male',\n",
              " 'male',\n",
              " 'male',\n",
              " 'male',\n",
              " 'female',\n",
              " 'male',\n",
              " 'female',\n",
              " 'male',\n",
              " 'male',\n",
              " 'male',\n",
              " 'female',\n",
              " 'female',\n",
              " 'male',\n",
              " 'male',\n",
              " 'male',\n",
              " 'male',\n",
              " 'male',\n",
              " 'female',\n",
              " 'female',\n",
              " 'female',\n",
              " 'male',\n",
              " 'female',\n",
              " 'male',\n",
              " 'male',\n",
              " 'male',\n",
              " 'male',\n",
              " 'male',\n",
              " 'female',\n",
              " 'male',\n",
              " 'male',\n",
              " 'male',\n",
              " 'male',\n",
              " 'male',\n",
              " 'male',\n",
              " 'female',\n",
              " 'male',\n",
              " 'male',\n",
              " 'male',\n",
              " 'male',\n",
              " 'male',\n",
              " 'male',\n",
              " 'male',\n",
              " 'male',\n",
              " 'male',\n",
              " 'male',\n",
              " 'female',\n",
              " 'male',\n",
              " 'male',\n",
              " 'female',\n",
              " 'male',\n",
              " 'male',\n",
              " 'male',\n",
              " 'female',\n",
              " 'male',\n",
              " 'male',\n",
              " 'male',\n",
              " 'male',\n",
              " 'male',\n",
              " 'male',\n",
              " 'male',\n",
              " 'male',\n",
              " 'male',\n",
              " 'male',\n",
              " 'male',\n",
              " 'male',\n",
              " 'male',\n",
              " 'female',\n",
              " 'male',\n",
              " 'female',\n",
              " 'male',\n",
              " 'female',\n",
              " 'male',\n",
              " 'male',\n",
              " 'male',\n",
              " 'male',\n",
              " 'female',\n",
              " 'female',\n",
              " 'male',\n",
              " 'male',\n",
              " 'male',\n",
              " 'male',\n",
              " 'male',\n",
              " 'male',\n",
              " 'male',\n",
              " 'female',\n",
              " 'female',\n",
              " 'male',\n",
              " 'female',\n",
              " 'male',\n",
              " 'male',\n",
              " 'male',\n",
              " 'male',\n",
              " 'male',\n",
              " 'female',\n",
              " 'male',\n",
              " 'female',\n",
              " 'male',\n",
              " 'female',\n",
              " 'male',\n",
              " 'male',\n",
              " 'male',\n",
              " 'male',\n",
              " 'male',\n",
              " 'male',\n",
              " 'male',\n",
              " 'male',\n",
              " 'male',\n",
              " 'male',\n",
              " 'female',\n",
              " 'male',\n",
              " 'male',\n",
              " 'male',\n",
              " 'male',\n",
              " 'female',\n",
              " 'male',\n",
              " 'male',\n",
              " 'male',\n",
              " 'male',\n",
              " 'female',\n",
              " 'male',\n",
              " 'male',\n",
              " 'female',\n",
              " 'male',\n",
              " 'male',\n",
              " 'male',\n",
              " 'male',\n",
              " 'female',\n",
              " 'female',\n",
              " 'female',\n",
              " 'male',\n",
              " 'male',\n",
              " 'male',\n",
              " 'female',\n",
              " 'male',\n",
              " 'male',\n",
              " 'male',\n",
              " 'female',\n",
              " 'male',\n",
              " 'male',\n",
              " 'female',\n",
              " 'male',\n",
              " 'female',\n",
              " 'male',\n",
              " 'male',\n",
              " 'male',\n",
              " 'female',\n",
              " 'male',\n",
              " 'male',\n",
              " 'male',\n",
              " 'male',\n",
              " 'female',\n",
              " 'male',\n",
              " 'female',\n",
              " 'male',\n",
              " 'male',\n",
              " 'male',\n",
              " 'female',\n",
              " 'male',\n",
              " 'male',\n",
              " 'male',\n",
              " 'male',\n",
              " 'female',\n",
              " 'female',\n",
              " 'female',\n",
              " 'male',\n",
              " 'male',\n",
              " 'female',\n",
              " 'male',\n",
              " 'female',\n",
              " 'male',\n",
              " 'male',\n",
              " 'male',\n",
              " 'male',\n",
              " 'male',\n",
              " 'male',\n",
              " 'male',\n",
              " 'male',\n",
              " 'female',\n",
              " 'male',\n",
              " 'female',\n",
              " 'male',\n",
              " 'male',\n",
              " 'male',\n",
              " 'male',\n",
              " 'male',\n",
              " 'male',\n",
              " 'male',\n",
              " 'male',\n",
              " 'male',\n",
              " 'female',\n",
              " 'female',\n",
              " 'female',\n",
              " 'male',\n",
              " 'female',\n",
              " 'male',\n",
              " 'male',\n",
              " 'female',\n",
              " 'female',\n",
              " 'male',\n",
              " 'female',\n",
              " 'male',\n",
              " 'male',\n",
              " 'male',\n",
              " 'male',\n",
              " 'male',\n",
              " 'male',\n",
              " 'female',\n",
              " 'female',\n",
              " 'female',\n",
              " ...]"
            ]
          },
          "metadata": {
            "tags": []
          },
          "execution_count": 31
        }
      ]
    },
    {
      "cell_type": "markdown",
      "metadata": {
        "id": "THaqbN4LM6YX"
      },
      "source": [
        "## **How to save prediciton results locally via jupyter notebook?**\n",
        "If you are working on Jupyter notebook, execute below block of codes. A file named 'submission.csv' will be created in your current working directory."
      ]
    },
    {
      "cell_type": "code",
      "metadata": {
        "id": "5I2wAC5RMwvJ"
      },
      "source": [
        "res = pd.DataFrame(pred)  # prediction is nothing but the final predictions of your model on input features of your new unseen test data\n",
        "res.to_csv(\"submission.csv\",header=['label'], index = False)      # the csv file will be saved locally on the same location where this notebook is located."
      ],
      "execution_count": 33,
      "outputs": []
    },
    {
      "cell_type": "markdown",
      "metadata": {
        "id": "fquFjyl6OfGz"
      },
      "source": [
        "# **OR,**\n",
        "**If you are working on Google Colab then use the below set of code to save prediction results locally**"
      ]
    },
    {
      "cell_type": "markdown",
      "metadata": {
        "id": "ILu2PfzNOqLx"
      },
      "source": [
        "## **How to save prediction results locally via colab notebook?**\n",
        "If you are working on Google Colab Notebook, execute below block of codes. A file named 'prediction_results' will be downloaded in your system."
      ]
    },
    {
      "cell_type": "code",
      "metadata": {
        "colab": {
          "base_uri": "https://localhost:8080/",
          "height": 17
        },
        "id": "FpcTFRw7NgXp",
        "outputId": "5a5a5e67-a3f0-4031-8ce2-3757a03b0e4b"
      },
      "source": [
        "res = pd.DataFrame({'filename': test_images['filename'], 'label': predictions})  # prediction is nothing but the final predictions of your model on input features of your new unseen test data\n",
        "res.to_csv(\"submission.csv\", index = False) \n",
        "\n",
        "# To download the csv file locally\n",
        "from google.colab import files        \n",
        "files.download('submission.csv')"
      ],
      "execution_count": null,
      "outputs": [
        {
          "output_type": "display_data",
          "data": {
            "application/javascript": [
              "\n",
              "    async function download(id, filename, size) {\n",
              "      if (!google.colab.kernel.accessAllowed) {\n",
              "        return;\n",
              "      }\n",
              "      const div = document.createElement('div');\n",
              "      const label = document.createElement('label');\n",
              "      label.textContent = `Downloading \"${filename}\": `;\n",
              "      div.appendChild(label);\n",
              "      const progress = document.createElement('progress');\n",
              "      progress.max = size;\n",
              "      div.appendChild(progress);\n",
              "      document.body.appendChild(div);\n",
              "\n",
              "      const buffers = [];\n",
              "      let downloaded = 0;\n",
              "\n",
              "      const channel = await google.colab.kernel.comms.open(id);\n",
              "      // Send a message to notify the kernel that we're ready.\n",
              "      channel.send({})\n",
              "\n",
              "      for await (const message of channel.messages) {\n",
              "        // Send a message to notify the kernel that we're ready.\n",
              "        channel.send({})\n",
              "        if (message.buffers) {\n",
              "          for (const buffer of message.buffers) {\n",
              "            buffers.push(buffer);\n",
              "            downloaded += buffer.byteLength;\n",
              "            progress.value = downloaded;\n",
              "          }\n",
              "        }\n",
              "      }\n",
              "      const blob = new Blob(buffers, {type: 'application/binary'});\n",
              "      const a = document.createElement('a');\n",
              "      a.href = window.URL.createObjectURL(blob);\n",
              "      a.download = filename;\n",
              "      div.appendChild(a);\n",
              "      a.click();\n",
              "      div.remove();\n",
              "    }\n",
              "  "
            ],
            "text/plain": [
              "<IPython.core.display.Javascript object>"
            ]
          },
          "metadata": {
            "tags": []
          }
        },
        {
          "output_type": "display_data",
          "data": {
            "application/javascript": [
              "download(\"download_adc89ccb-ea74-42a5-95f1-8831775872bd\", \"submission.csv\", 329580)"
            ],
            "text/plain": [
              "<IPython.core.display.Javascript object>"
            ]
          },
          "metadata": {
            "tags": []
          }
        }
      ]
    },
    {
      "cell_type": "markdown",
      "metadata": {
        "id": "NohZiMIkO_tX"
      },
      "source": [
        "# **Well Done! 👍**\n",
        "You are all set to make a submission. Let's head to the **[challenge page](https://dphi.tech/challenges/4-week-deep-learning-online-bootcamp-final-assignment-sex-determination-by-morphometry-of-eyes/144/submit)** to make the submission."
      ]
    }
  ]
}